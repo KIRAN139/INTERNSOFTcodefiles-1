{
  "nbformat": 4,
  "nbformat_minor": 0,
  "metadata": {
    "colab": {
      "name": "Day1.ipynb",
      "provenance": [],
      "authorship_tag": "ABX9TyNgXs3vWWXLWXqfa7g7hNax",
      "include_colab_link": true
    },
    "kernelspec": {
      "name": "python3",
      "display_name": "Python 3"
    }
  },
  "cells": [
    {
      "cell_type": "markdown",
      "metadata": {
        "id": "view-in-github",
        "colab_type": "text"
      },
      "source": [
        "<a href=\"https://colab.research.google.com/github/Meghanap18/INTERNSOFTcodefiles/blob/main/Day1.ipynb\" target=\"_parent\"><img src=\"https://colab.research.google.com/assets/colab-badge.svg\" alt=\"Open In Colab\"/></a>"
      ]
    },
    {
      "cell_type": "code",
      "metadata": {
        "colab": {
          "base_uri": "https://localhost:8080/"
        },
        "id": "LYOojw7GS6hh",
        "outputId": "a06aa648-387f-48a5-c230-eb6225b32782"
      },
      "source": [
        "x = 1.0\r\n",
        "type(x)"
      ],
      "execution_count": 1,
      "outputs": [
        {
          "output_type": "execute_result",
          "data": {
            "text/plain": [
              "float"
            ]
          },
          "metadata": {
            "tags": []
          },
          "execution_count": 1
        }
      ]
    },
    {
      "cell_type": "code",
      "metadata": {
        "colab": {
          "base_uri": "https://localhost:8080/"
        },
        "id": "2lqYfYzbS9Gq",
        "outputId": "1ba13f87-4e32-4c47-8668-22453ef56220"
      },
      "source": [
        "x = 1\r\n",
        "type(x)"
      ],
      "execution_count": 2,
      "outputs": [
        {
          "output_type": "execute_result",
          "data": {
            "text/plain": [
              "int"
            ]
          },
          "metadata": {
            "tags": []
          },
          "execution_count": 2
        }
      ]
    },
    {
      "cell_type": "code",
      "metadata": {
        "colab": {
          "base_uri": "https://localhost:8080/"
        },
        "id": "XeYsrO1UU0JI",
        "outputId": "c7ca9180-8cfe-48d9-af07-a0cebc42a239"
      },
      "source": [
        "b1 = True\r\n",
        "b2 = False\r\n",
        "\r\n",
        "type(b1)"
      ],
      "execution_count": 3,
      "outputs": [
        {
          "output_type": "execute_result",
          "data": {
            "text/plain": [
              "bool"
            ]
          },
          "metadata": {
            "tags": []
          },
          "execution_count": 3
        }
      ]
    },
    {
      "cell_type": "code",
      "metadata": {
        "colab": {
          "base_uri": "https://localhost:8080/"
        },
        "id": "a2x5H5-pU6pS",
        "outputId": "ec3bae7e-f753-49af-bb3c-2aed7b0db998"
      },
      "source": [
        "name1 = 'Meghana'\r\n",
        "type(name1)"
      ],
      "execution_count": 4,
      "outputs": [
        {
          "output_type": "execute_result",
          "data": {
            "text/plain": [
              "str"
            ]
          },
          "metadata": {
            "tags": []
          },
          "execution_count": 4
        }
      ]
    },
    {
      "cell_type": "code",
      "metadata": {
        "colab": {
          "base_uri": "https://localhost:8080/"
        },
        "id": "3_k5YJzHU6r_",
        "outputId": "f563b965-35e1-4636-a864-5caafe235496"
      },
      "source": [
        "x = 1.0 - 2.0j\r\n",
        "type(x)"
      ],
      "execution_count": 5,
      "outputs": [
        {
          "output_type": "execute_result",
          "data": {
            "text/plain": [
              "complex"
            ]
          },
          "metadata": {
            "tags": []
          },
          "execution_count": 5
        }
      ]
    },
    {
      "cell_type": "code",
      "metadata": {
        "colab": {
          "base_uri": "https://localhost:8080/"
        },
        "id": "QwSLhCz3U6uH",
        "outputId": "dac82d15-4366-46ff-b0c9-57a37cd258af"
      },
      "source": [
        "print(x)"
      ],
      "execution_count": 6,
      "outputs": [
        {
          "output_type": "stream",
          "text": [
            "(1-2j)\n"
          ],
          "name": "stdout"
        }
      ]
    },
    {
      "cell_type": "code",
      "metadata": {
        "colab": {
          "base_uri": "https://localhost:8080/"
        },
        "id": "hVmXBNAmU6wM",
        "outputId": "64a1ce97-de0a-4cec-dc9d-79aa0c63be26"
      },
      "source": [
        "print(x.real, x.imag)"
      ],
      "execution_count": 7,
      "outputs": [
        {
          "output_type": "stream",
          "text": [
            "1.0 -2.0\n"
          ],
          "name": "stdout"
        }
      ]
    },
    {
      "cell_type": "code",
      "metadata": {
        "colab": {
          "base_uri": "https://localhost:8080/"
        },
        "id": "A8oI2VELU6zA",
        "outputId": "0a9618cf-f082-4587-ef53-2d7e04195e52"
      },
      "source": [
        "tenth = 10\r\n",
        "two = 2\r\n",
        "print(tenth)\r\n",
        "two"
      ],
      "execution_count": 8,
      "outputs": [
        {
          "output_type": "stream",
          "text": [
            "10\n"
          ],
          "name": "stdout"
        },
        {
          "output_type": "execute_result",
          "data": {
            "text/plain": [
              "2"
            ]
          },
          "metadata": {
            "tags": []
          },
          "execution_count": 8
        }
      ]
    },
    {
      "cell_type": "code",
      "metadata": {
        "colab": {
          "base_uri": "https://localhost:8080/"
        },
        "id": "_PnVh_pnU61q",
        "outputId": "bb3a5e85-341f-4732-9e3e-dc3c776b6f29"
      },
      "source": [
        "ten = 10\r\n",
        "ten"
      ],
      "execution_count": 9,
      "outputs": [
        {
          "output_type": "execute_result",
          "data": {
            "text/plain": [
              "10"
            ]
          },
          "metadata": {
            "tags": []
          },
          "execution_count": 9
        }
      ]
    },
    {
      "cell_type": "code",
      "metadata": {
        "colab": {
          "base_uri": "https://localhost:8080/",
          "height": 35
        },
        "id": "fzhlM36wU64v",
        "outputId": "3afe933d-c5aa-403d-8b89-93871a650e88"
      },
      "source": [
        "ten = 'ten'\r\n",
        "ten"
      ],
      "execution_count": 11,
      "outputs": [
        {
          "output_type": "execute_result",
          "data": {
            "application/vnd.google.colaboratory.intrinsic+json": {
              "type": "string"
            },
            "text/plain": [
              "'ten'"
            ]
          },
          "metadata": {
            "tags": []
          },
          "execution_count": 11
        }
      ]
    },
    {
      "cell_type": "code",
      "metadata": {
        "colab": {
          "base_uri": "https://localhost:8080/",
          "height": 35
        },
        "id": "n8uOFy_RU68M",
        "outputId": "8a55a1af-d956-49d0-8a23-4087cb2e6d73"
      },
      "source": [
        "'Day ' + str(1)"
      ],
      "execution_count": 16,
      "outputs": [
        {
          "output_type": "execute_result",
          "data": {
            "application/vnd.google.colaboratory.intrinsic+json": {
              "type": "string"
            },
            "text/plain": [
              "'Day 1'"
            ]
          },
          "metadata": {
            "tags": []
          },
          "execution_count": 16
        }
      ]
    },
    {
      "cell_type": "code",
      "metadata": {
        "colab": {
          "base_uri": "https://localhost:8080/"
        },
        "id": "fG5yixF0U6_l",
        "outputId": "84b828e0-ef08-4d2d-c257-cd5aa12a9022"
      },
      "source": [
        "True and True"
      ],
      "execution_count": 17,
      "outputs": [
        {
          "output_type": "execute_result",
          "data": {
            "text/plain": [
              "True"
            ]
          },
          "metadata": {
            "tags": []
          },
          "execution_count": 17
        }
      ]
    },
    {
      "cell_type": "code",
      "metadata": {
        "colab": {
          "base_uri": "https://localhost:8080/"
        },
        "id": "9H4Ccu0wU7CE",
        "outputId": "a3fe092c-0d82-4aca-e5cd-d701e9cc59d0"
      },
      "source": [
        "True or False"
      ],
      "execution_count": 18,
      "outputs": [
        {
          "output_type": "execute_result",
          "data": {
            "text/plain": [
              "True"
            ]
          },
          "metadata": {
            "tags": []
          },
          "execution_count": 18
        }
      ]
    },
    {
      "cell_type": "code",
      "metadata": {
        "colab": {
          "base_uri": "https://localhost:8080/"
        },
        "id": "oCSVp2v9U7Du",
        "outputId": "5b077c8e-0e2b-46f1-ade6-f695287a5ba0"
      },
      "source": [
        "not True"
      ],
      "execution_count": 19,
      "outputs": [
        {
          "output_type": "execute_result",
          "data": {
            "text/plain": [
              "False"
            ]
          },
          "metadata": {
            "tags": []
          },
          "execution_count": 19
        }
      ]
    },
    {
      "cell_type": "code",
      "metadata": {
        "colab": {
          "base_uri": "https://localhost:8080/"
        },
        "id": "-LgYL8lsU7Fm",
        "outputId": "d5dd78b2-5991-4067-ecff-6d052a8e937c"
      },
      "source": [
        "not True"
      ],
      "execution_count": 20,
      "outputs": [
        {
          "output_type": "execute_result",
          "data": {
            "text/plain": [
              "False"
            ]
          },
          "metadata": {
            "tags": []
          },
          "execution_count": 20
        }
      ]
    },
    {
      "cell_type": "code",
      "metadata": {
        "colab": {
          "base_uri": "https://localhost:8080/"
        },
        "id": "AWC5pkS5U7H9",
        "outputId": "076c0aab-5daf-422d-9ac1-94dde7a59387"
      },
      "source": [
        "True is True"
      ],
      "execution_count": 21,
      "outputs": [
        {
          "output_type": "execute_result",
          "data": {
            "text/plain": [
              "True"
            ]
          },
          "metadata": {
            "tags": []
          },
          "execution_count": 21
        }
      ]
    },
    {
      "cell_type": "code",
      "metadata": {
        "colab": {
          "base_uri": "https://localhost:8080/"
        },
        "id": "oLUdDYU0U7Kb",
        "outputId": "baa3f87d-421f-4312-e1f3-7e70354024b1"
      },
      "source": [
        "True is False"
      ],
      "execution_count": 22,
      "outputs": [
        {
          "output_type": "execute_result",
          "data": {
            "text/plain": [
              "False"
            ]
          },
          "metadata": {
            "tags": []
          },
          "execution_count": 22
        }
      ]
    },
    {
      "cell_type": "code",
      "metadata": {
        "colab": {
          "base_uri": "https://localhost:8080/"
        },
        "id": "LSXTCssgU7Od",
        "outputId": "7f917994-d67f-4c7f-9da8-a3dbc984aa4f"
      },
      "source": [
        "'a' is 'a'"
      ],
      "execution_count": 23,
      "outputs": [
        {
          "output_type": "execute_result",
          "data": {
            "text/plain": [
              "True"
            ]
          },
          "metadata": {
            "tags": []
          },
          "execution_count": 23
        }
      ]
    },
    {
      "cell_type": "code",
      "metadata": {
        "colab": {
          "base_uri": "https://localhost:8080/"
        },
        "id": "MTMXuDAFW3zE",
        "outputId": "56298203-8901-4361-f245-1b3f2c13cbbc"
      },
      "source": [
        "i = 3\r\n",
        "if i < 3:\r\n",
        "    print('less than 3')\r\n",
        "elif i < 5:\r\n",
        "    print('less than 5')\r\n",
        "else:\r\n",
        "    print('5 or more')"
      ],
      "execution_count": 24,
      "outputs": [
        {
          "output_type": "stream",
          "text": [
            "less than 5\n"
          ],
          "name": "stdout"
        }
      ]
    },
    {
      "cell_type": "code",
      "metadata": {
        "colab": {
          "base_uri": "https://localhost:8080/"
        },
        "id": "p720ToQqW31o",
        "outputId": "8b672a3f-2529-498e-f3ed-7dc21d2e5666"
      },
      "source": [
        "l = []\r\n",
        "l"
      ],
      "execution_count": 25,
      "outputs": [
        {
          "output_type": "execute_result",
          "data": {
            "text/plain": [
              "[]"
            ]
          },
          "metadata": {
            "tags": []
          },
          "execution_count": 25
        }
      ]
    },
    {
      "cell_type": "code",
      "metadata": {
        "colab": {
          "base_uri": "https://localhost:8080/"
        },
        "id": "uS5IqKNpW34T",
        "outputId": "fede77fe-5f65-4e62-85e8-2f19252d86e8"
      },
      "source": [
        " l= list()\r\n",
        "l"
      ],
      "execution_count": 26,
      "outputs": [
        {
          "output_type": "execute_result",
          "data": {
            "text/plain": [
              "[]"
            ]
          },
          "metadata": {
            "tags": []
          },
          "execution_count": 26
        }
      ]
    },
    {
      "cell_type": "code",
      "metadata": {
        "colab": {
          "base_uri": "https://localhost:8080/"
        },
        "id": "e5C3pW1kW37e",
        "outputId": "42a7819d-9ded-4cb7-d23c-469d405a3a15"
      },
      "source": [
        "l = ['a', 'b', 'c']\r\n",
        "print(l)\r\n",
        "type(l)"
      ],
      "execution_count": 27,
      "outputs": [
        {
          "output_type": "stream",
          "text": [
            "['a', 'b', 'c']\n"
          ],
          "name": "stdout"
        },
        {
          "output_type": "execute_result",
          "data": {
            "text/plain": [
              "list"
            ]
          },
          "metadata": {
            "tags": []
          },
          "execution_count": 27
        }
      ]
    },
    {
      "cell_type": "code",
      "metadata": {
        "colab": {
          "base_uri": "https://localhost:8080/"
        },
        "id": "p5JIrh5XW3_F",
        "outputId": "e261dffc-7c59-4c37-b06d-26782233cb2c"
      },
      "source": [
        "l = ['a',6]\r\n",
        "l"
      ],
      "execution_count": 28,
      "outputs": [
        {
          "output_type": "execute_result",
          "data": {
            "text/plain": [
              "['a', 6]"
            ]
          },
          "metadata": {
            "tags": []
          },
          "execution_count": 28
        }
      ]
    },
    {
      "cell_type": "code",
      "metadata": {
        "colab": {
          "base_uri": "https://localhost:8080/"
        },
        "id": "P4toMXf1W4Dw",
        "outputId": "9f6b8886-22fe-4f98-bc32-065d38f1eddf"
      },
      "source": [
        "l2 = list(l)\r\n",
        "l2"
      ],
      "execution_count": 29,
      "outputs": [
        {
          "output_type": "execute_result",
          "data": {
            "text/plain": [
              "['a', 6]"
            ]
          },
          "metadata": {
            "tags": []
          },
          "execution_count": 29
        }
      ]
    },
    {
      "cell_type": "code",
      "metadata": {
        "colab": {
          "base_uri": "https://localhost:8080/"
        },
        "id": "Eh4CzivtW4F8",
        "outputId": "833d69f1-bede-470c-c4ca-30b627e88983"
      },
      "source": [
        "list('abcdef')"
      ],
      "execution_count": 30,
      "outputs": [
        {
          "output_type": "execute_result",
          "data": {
            "text/plain": [
              "['a', 'b', 'c', 'd', 'e', 'f']"
            ]
          },
          "metadata": {
            "tags": []
          },
          "execution_count": 30
        }
      ]
    },
    {
      "cell_type": "code",
      "metadata": {
        "colab": {
          "base_uri": "https://localhost:8080/"
        },
        "id": "4lw1B1GhW4Io",
        "outputId": "0f3b2eb2-e84c-45f8-e1e5-d37ef06c19db"
      },
      "source": [
        "l = [1,2]\r\n",
        "print(l)\r\n",
        "l.append('b')\r\n",
        "print(l)\r\n",
        "l.append('c')\r\n",
        "print(l)\r\n",
        "l.insert(1, 56)\r\n",
        "l"
      ],
      "execution_count": 31,
      "outputs": [
        {
          "output_type": "stream",
          "text": [
            "[1, 2]\n",
            "[1, 2, 'b']\n",
            "[1, 2, 'b', 'c']\n"
          ],
          "name": "stdout"
        },
        {
          "output_type": "execute_result",
          "data": {
            "text/plain": [
              "[1, 56, 2, 'b', 'c']"
            ]
          },
          "metadata": {
            "tags": []
          },
          "execution_count": 31
        }
      ]
    },
    {
      "cell_type": "code",
      "metadata": {
        "colab": {
          "base_uri": "https://localhost:8080/"
        },
        "id": "UeI3umVVW4LN",
        "outputId": "1e38a900-2d5f-42e9-b4da-a3f90b9904ae"
      },
      "source": [
        "for i in l:\r\n",
        "    print(i)"
      ],
      "execution_count": 32,
      "outputs": [
        {
          "output_type": "stream",
          "text": [
            "1\n",
            "56\n",
            "2\n",
            "b\n",
            "c\n"
          ],
          "name": "stdout"
        }
      ]
    },
    {
      "cell_type": "code",
      "metadata": {
        "colab": {
          "base_uri": "https://localhost:8080/"
        },
        "id": "pTbIo2bWW4PK",
        "outputId": "1ca5ca0c-3a96-4148-c526-a8d6bb86f5b3"
      },
      "source": [
        "numbers = [6, 5, 3, 8, 4, 2, 5, 4,9]\r\n",
        "\r\n",
        "\r\n",
        "sum = 0\r\n",
        "\r\n",
        "\r\n",
        "for i in numbers:\r\n",
        "    sum = sum + i\r\n",
        "\r\n",
        "print(\"The sum is\", sum)\r\n",
        "sum\r\n"
      ],
      "execution_count": 33,
      "outputs": [
        {
          "output_type": "stream",
          "text": [
            "The sum is 46\n"
          ],
          "name": "stdout"
        },
        {
          "output_type": "execute_result",
          "data": {
            "text/plain": [
              "46"
            ]
          },
          "metadata": {
            "tags": []
          },
          "execution_count": 33
        }
      ]
    },
    {
      "cell_type": "code",
      "metadata": {
        "colab": {
          "base_uri": "https://localhost:8080/"
        },
        "id": "i5A5YrzpW4R0",
        "outputId": "f5e5d794-0a28-4130-a7ca-422f10bb6fa1"
      },
      "source": [
        "digits = [0, 1, 5]\r\n",
        "\r\n",
        "for i in digits:\r\n",
        "    print(i)\r\n",
        "else:\r\n",
        "    print(\"No items left.\")"
      ],
      "execution_count": 34,
      "outputs": [
        {
          "output_type": "stream",
          "text": [
            "0\n",
            "1\n",
            "5\n",
            "No items left.\n"
          ],
          "name": "stdout"
        }
      ]
    },
    {
      "cell_type": "code",
      "metadata": {
        "colab": {
          "base_uri": "https://localhost:8080/"
        },
        "id": "TqCFg2A7W4UU",
        "outputId": "a5013684-fcce-47bf-a87f-e36a4ca47519"
      },
      "source": [
        "n = int(input(\"Enter n: \"))\r\n",
        "\r\n",
        "sum = 0\r\n",
        "i = 1\r\n",
        "\r\n",
        "while i <= n:\r\n",
        "    sum = sum + i\r\n",
        "    i = i+1    \r\n",
        "\r\n",
        "print(\"The sum is\", sum)"
      ],
      "execution_count": 35,
      "outputs": [
        {
          "output_type": "stream",
          "text": [
            "Enter n: 10\n",
            "The sum is 55\n"
          ],
          "name": "stdout"
        }
      ]
    },
    {
      "cell_type": "code",
      "metadata": {
        "colab": {
          "base_uri": "https://localhost:8080/"
        },
        "id": "eRLkft_8W4W8",
        "outputId": "4013c496-96c4-42ed-82fc-1b20a38383cb"
      },
      "source": [
        "print(range(10))"
      ],
      "execution_count": 36,
      "outputs": [
        {
          "output_type": "stream",
          "text": [
            "range(0, 10)\n"
          ],
          "name": "stdout"
        }
      ]
    },
    {
      "cell_type": "code",
      "metadata": {
        "colab": {
          "base_uri": "https://localhost:8080/"
        },
        "id": "Lid6lLGhW4ZW",
        "outputId": "4161a2d2-ca1f-42d1-f441-8f6428e9acc1"
      },
      "source": [
        "print(list(range(10)))"
      ],
      "execution_count": 37,
      "outputs": [
        {
          "output_type": "stream",
          "text": [
            "[0, 1, 2, 3, 4, 5, 6, 7, 8, 9]\n"
          ],
          "name": "stdout"
        }
      ]
    },
    {
      "cell_type": "code",
      "metadata": {
        "colab": {
          "base_uri": "https://localhost:8080/"
        },
        "id": "elrUf1SiW4by",
        "outputId": "77d80305-66d5-4f6d-fb72-d4e8c54d1ba2"
      },
      "source": [
        "print(list(range(2, 8)))"
      ],
      "execution_count": 38,
      "outputs": [
        {
          "output_type": "stream",
          "text": [
            "[2, 3, 4, 5, 6, 7]\n"
          ],
          "name": "stdout"
        }
      ]
    },
    {
      "cell_type": "code",
      "metadata": {
        "colab": {
          "base_uri": "https://localhost:8080/"
        },
        "id": "yLL56DapW4eT",
        "outputId": "dc6b1f25-7868-4b77-b9a3-dd458a04b282"
      },
      "source": [
        "print(list(range(2, 20, 5)))"
      ],
      "execution_count": 39,
      "outputs": [
        {
          "output_type": "stream",
          "text": [
            "[2, 7, 12, 17]\n"
          ],
          "name": "stdout"
        }
      ]
    },
    {
      "cell_type": "code",
      "metadata": {
        "colab": {
          "base_uri": "https://localhost:8080/"
        },
        "id": "ZZOm7smpW4gn",
        "outputId": "8aebc46d-2384-48d3-81fb-cd36189e9dbe"
      },
      "source": [
        "genre = ['pop', 'rock', 'jazz','sapna']\r\n",
        "\r\n",
        "for i in range(len(genre)):\r\n",
        "    print(\"I like\", genre[i])"
      ],
      "execution_count": 40,
      "outputs": [
        {
          "output_type": "stream",
          "text": [
            "I like pop\n",
            "I like rock\n",
            "I like jazz\n",
            "I like sapna\n"
          ],
          "name": "stdout"
        }
      ]
    },
    {
      "cell_type": "code",
      "metadata": {
        "colab": {
          "base_uri": "https://localhost:8080/"
        },
        "id": "vlxqT4q9W4kD",
        "outputId": "f17b7a63-3079-49ec-e4a9-5fe272b1bdc2"
      },
      "source": [
        "for val in \"HARSHITHA\":\r\n",
        "    if val == \"I\":\r\n",
        "        break\r\n",
        "    print(val)\r\n",
        "\r\n",
        "print(\"The end\")"
      ],
      "execution_count": 41,
      "outputs": [
        {
          "output_type": "stream",
          "text": [
            "H\n",
            "A\n",
            "R\n",
            "S\n",
            "H\n",
            "The end\n"
          ],
          "name": "stdout"
        }
      ]
    },
    {
      "cell_type": "code",
      "metadata": {
        "colab": {
          "base_uri": "https://localhost:8080/"
        },
        "id": "dTz7mthQY0TD",
        "outputId": "c71351dc-fd5c-4ece-ebe0-70818ad5adbc"
      },
      "source": [
        "for val in \"HARSHITHA\":\r\n",
        "    if val == \"I\":\r\n",
        "        continue\r\n",
        "    print(val)\r\n",
        "\r\n",
        "print(\"The end\")"
      ],
      "execution_count": 42,
      "outputs": [
        {
          "output_type": "stream",
          "text": [
            "H\n",
            "A\n",
            "R\n",
            "S\n",
            "H\n",
            "T\n",
            "H\n",
            "A\n",
            "The end\n"
          ],
          "name": "stdout"
        }
      ]
    },
    {
      "cell_type": "code",
      "metadata": {
        "colab": {
          "base_uri": "https://localhost:8080/"
        },
        "id": "4aKiRX73Y0WW",
        "outputId": "ac9725ea-c046-4c16-9f71-2a4b3afa09e5"
      },
      "source": [
        "name = input(\"What is your name?\\n \")\r\n",
        "type(name)"
      ],
      "execution_count": 43,
      "outputs": [
        {
          "output_type": "stream",
          "text": [
            "What is your name?\n",
            " Meghana\n"
          ],
          "name": "stdout"
        },
        {
          "output_type": "execute_result",
          "data": {
            "text/plain": [
              "str"
            ]
          },
          "metadata": {
            "tags": []
          },
          "execution_count": 43
        }
      ]
    },
    {
      "cell_type": "code",
      "metadata": {
        "colab": {
          "base_uri": "https://localhost:8080/"
        },
        "id": "t4ppgQRoY_nY",
        "outputId": "f2e2162e-0261-42db-ec77-2f0596dd8bed"
      },
      "source": [
        "age = int(input(\"What is your age? \"))\r\n",
        "print (\"Your age is: \", age)\r\n",
        "type(age)"
      ],
      "execution_count": 44,
      "outputs": [
        {
          "output_type": "stream",
          "text": [
            "What is your age? 20\n",
            "Your age is:  20\n"
          ],
          "name": "stdout"
        },
        {
          "output_type": "execute_result",
          "data": {
            "text/plain": [
              "int"
            ]
          },
          "metadata": {
            "tags": []
          },
          "execution_count": 44
        }
      ]
    },
    {
      "cell_type": "code",
      "metadata": {
        "colab": {
          "base_uri": "https://localhost:8080/"
        },
        "id": "K4uQoNc8ZAGc",
        "outputId": "27438242-fd2a-4482-c034-72f5c17964e8"
      },
      "source": [
        "name = input(\"What is your name? \")\r\n",
        "print (\" It was nice talking you \" + name + \"!\")\r\n",
        "age = input(\"Enter your age? \")\r\n",
        "print(\"Hey, you are already \" + age + \" years old, \" + name + \"!\")"
      ],
      "execution_count": 45,
      "outputs": [
        {
          "output_type": "stream",
          "text": [
            "What is your name? Meghana\n",
            " It was nice talking you Meghana!\n",
            "Enter your age? 20\n",
            "Hey, you are already 20 years old, Meghana!\n"
          ],
          "name": "stdout"
        }
      ]
    }
  ]
}